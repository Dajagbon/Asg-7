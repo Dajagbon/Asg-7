{
 "cells": [
  {
   "cell_type": "code",
   "execution_count": 71,
   "id": "679f33e3-8341-43f7-9e1a-a61c14a09d82",
   "metadata": {},
   "outputs": [
    {
     "name": "stdout",
     "output_type": "stream",
     "text": [
      "Probability: 0.5833333333333334\n"
     ]
    }
   ],
   "source": [
    "#\n",
    "def craps_probability():\n",
    "    dice_count = '2d6'\n",
    "    num_value = 7\n",
    "    \n",
    "    sides = 6\n",
    "    \n",
    "    dice = int(dice_count[0])\n",
    "    \n",
    "    total_outcomes = sides ** dice\n",
    "    \n",
    "    count_meet_or_exceed = 0\n",
    "    \n",
    "    for roll1 in range(1, sides + 1):\n",
    "        for roll2 in range(1, sides + 1):\n",
    "            if roll1 + roll2 >= num_value:\n",
    "                count_meet_or_exceed += 1\n",
    "                \n",
    "    probability = count_meet_or_exceed / total_outcomes\n",
    "    \n",
    "    return probability\n",
    "\n",
    "print(\"Probability:\", craps_probability())"
   ]
  },
  {
   "cell_type": "code",
   "execution_count": 85,
   "id": "b4b8c727-5ad8-412d-bd5d-d09c6f1e0969",
   "metadata": {},
   "outputs": [
    {
     "name": "stdout",
     "output_type": "stream",
     "text": [
      "Probability: 0.2777777777777778\n"
     ]
    }
   ],
   "source": [
    "def craps_probability():\n",
    "    dice_count = '2d6'\n",
    "    num_value = 9\n",
    "    \n",
    "    sides = 6\n",
    "    \n",
    "    dice = int(dice_count[0])\n",
    "    \n",
    "    total_outcomes = sides ** dice\n",
    "    \n",
    "    count_meet_or_exceed = 0\n",
    "    \n",
    "    for roll1 in range(1, sides + 1):\n",
    "        for roll2 in range(1, sides + 1):\n",
    "            if roll1 + roll2 >= num_value:\n",
    "                count_meet_or_exceed += 1\n",
    "                \n",
    "    probability = count_meet_or_exceed / total_outcomes\n",
    "    \n",
    "    return probability\n",
    "\n",
    "print(\"Probability:\", craps_probability())"
   ]
  },
  {
   "cell_type": "code",
   "execution_count": 86,
   "id": "4da09bd8-e07e-4978-80ae-3f9399005c44",
   "metadata": {},
   "outputs": [
    {
     "name": "stdout",
     "output_type": "stream",
     "text": [
      "Probability: 0.0\n"
     ]
    }
   ],
   "source": [
    "def craps_probability():\n",
    "    dice_count = '3d8'\n",
    "    num_value = 22\n",
    "    \n",
    "    sides = 8\n",
    "    \n",
    "    dice = int(dice_count[0])\n",
    "    \n",
    "    total_outcomes = sides ** dice\n",
    "    \n",
    "    count_meet_or_exceed = 0\n",
    "    \n",
    "    for roll1 in range(1, sides + 1):\n",
    "        for roll2 in range(1, sides + 1):\n",
    "            if roll1 + roll2 >= num_value:\n",
    "                count_meet_or_exceed += 1\n",
    "                \n",
    "    probability = count_meet_or_exceed / total_outcomes\n",
    "    \n",
    "    return probability\n",
    "\n",
    "print(\"Probability:\", craps_probability())"
   ]
  },
  {
   "cell_type": "code",
   "execution_count": 84,
   "id": "015ed4f8-93a0-4fff-bc2f-e26647380e13",
   "metadata": {},
   "outputs": [
    {
     "name": "stdout",
     "output_type": "stream",
     "text": [
      "Probability: 14.0\n"
     ]
    }
   ],
   "source": [
    "def craps_probability():\n",
    "    dice_count = '1d20'\n",
    "    num_value = 17\n",
    "    \n",
    "    sides = 20\n",
    "    \n",
    "    dice = int(dice_count[0])\n",
    "    \n",
    "    total_outcomes = sides ** dice\n",
    "    \n",
    "    count_meet_or_exceed = 0\n",
    "    \n",
    "    for roll1 in range(1, sides + 1):\n",
    "        for roll2 in range(1, sides + 1):\n",
    "            if roll1 + roll2 >= num_value:\n",
    "                count_meet_or_exceed += 1\n",
    "                \n",
    "    probability = count_meet_or_exceed / total_outcomes\n",
    "    \n",
    "    return probability\n",
    "\n",
    "print(\"Probability:\", craps_probability())"
   ]
  },
  {
   "cell_type": "code",
   "execution_count": 83,
   "id": "27fa74c2-1bb9-479d-86d5-8aaf00dcf18d",
   "metadata": {},
   "outputs": [
    {
     "name": "stdout",
     "output_type": "stream",
     "text": [
      "Probability: 0.0006430041152263374\n"
     ]
    }
   ],
   "source": [
    "#Write a function that takes a dice configuration, and a numeric value as input.\n",
    "def craps_probability():\n",
    "    dice_count = '6'\n",
    "    num_value = 5\n",
    "    \n",
    "    sides = 6\n",
    "    \n",
    "    dice = int(dice_count[0])\n",
    "    \n",
    "    total_outcomes = sides ** dice\n",
    "    \n",
    "    count_meet_or_exceed = 0\n",
    "    \n",
    "    for roll1 in range(1, sides + 1):\n",
    "        for roll2 in range(1, sides + 1):\n",
    "            if roll1 + roll2 >= num_value:\n",
    "                count_meet_or_exceed += 1\n",
    "                \n",
    "    probability = count_meet_or_exceed / total_outcomes\n",
    "    \n",
    "    return probability\n",
    "\n",
    "print(\"Probability:\", craps_probability())"
   ]
  },
  {
   "cell_type": "code",
   "execution_count": 82,
   "id": "96b6935e-ef2a-4aa4-a294-8e12bec4dd90",
   "metadata": {},
   "outputs": [
    {
     "name": "stdout",
     "output_type": "stream",
     "text": [
      "Combinatorics: ['ABC', 'ACB', 'BAC', 'BCA', 'CAB', 'CBA']\n"
     ]
    }
   ],
   "source": [
    "# Write a function that takes a string as input, and will generate a list of all permutations of the characters used in that string.\n",
    "def combinatorics(ABC):\n",
    "    permutations = []\n",
    "\n",
    "    def word_breaker(prefix, remaining_chars):\n",
    "        if not remaining_chars:\n",
    "            permutations.append(prefix)\n",
    "        else:\n",
    "            for i in range(len(remaining_chars)):\n",
    "                current_char = remaining_chars[i]\n",
    "                word_breaker(prefix + current_char, remaining_chars[:i] + remaining_chars[i+1:])\n",
    "                \n",
    "    word_breaker('', input_string)\n",
    "\n",
    "    return permutations\n",
    "    \n",
    "print(\"Combinatorics:\", combinatorics('ABC'))"
   ]
  },
  {
   "cell_type": "code",
   "execution_count": null,
   "id": "0cdeda5f-7f4a-454a-9825-908a78142444",
   "metadata": {},
   "outputs": [],
   "source": []
  }
 ],
 "metadata": {
  "kernelspec": {
   "display_name": "Python 3 (ipykernel)",
   "language": "python",
   "name": "python3"
  },
  "language_info": {
   "codemirror_mode": {
    "name": "ipython",
    "version": 3
   },
   "file_extension": ".py",
   "mimetype": "text/x-python",
   "name": "python",
   "nbconvert_exporter": "python",
   "pygments_lexer": "ipython3",
   "version": "3.11.5"
  }
 },
 "nbformat": 4,
 "nbformat_minor": 5
}
